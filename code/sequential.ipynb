{
 "cells": [
  {
   "cell_type": "code",
   "execution_count": 1,
   "metadata": {},
   "outputs": [],
   "source": [
    "import json\n",
    "import pandas as pd\n",
    "import numpy as np\n",
    "from sklearn.model_selection import train_test_split\n",
    "from sklearn.preprocessing import StandardScaler\n",
    "from sklearn.metrics import accuracy_score\n",
    "import tensorflow as tf\n",
    "from tensorflow.keras.models import Sequential\n",
    "from tensorflow.keras.layers import Dense"
   ]
  },
  {
   "cell_type": "code",
   "execution_count": 2,
   "metadata": {},
   "outputs": [],
   "source": [
    "# Función para cargar y preprocesar los datos\n",
    "def load_and_preprocess_data(file_path):\n",
    "    with open(file_path) as f:\n",
    "        data = json.load(f)\n",
    "    \n",
    "    # Convertir los datos en un DataFrame de Pandas\n",
    "    df_list = []\n",
    "    for token, records in data.items():\n",
    "        for record in records:\n",
    "            record['Token'] = token\n",
    "            df_list.append(record)\n",
    "    df = pd.DataFrame(df_list)\n",
    "    \n",
    "    # Eliminar columnas innecesarias y manejar valores faltantes si los hay\n",
    "    df.drop(columns=['date', 'Nombre', 'Clase'], inplace=True)\n",
    "    df.fillna(0, inplace=True)  # Reemplazar valores faltantes con 0\n",
    "    \n",
    "    # Crear la variable 'price_increase'\n",
    "    df['price_increase'] = np.where(df['Price'].diff() > 0, 1, 0)\n",
    "    \n",
    "    return df"
   ]
  },
  {
   "cell_type": "code",
   "execution_count": 3,
   "metadata": {},
   "outputs": [],
   "source": [
    "# Cargar y preprocesar los datos\n",
    "data_df = load_and_preprocess_data('../data/dataset.json')"
   ]
  },
  {
   "cell_type": "code",
   "execution_count": 4,
   "metadata": {},
   "outputs": [],
   "source": [
    "# Definir características y variable objetivo\n",
    "features = ['Price', 'Market cap', 'tvl', 'price_trend', 'market_cap_trend', 'price_volatility', 'tvl_trend']\n",
    "target = 'price_increase'  # Variable objetivo: si el precio subirá o bajará"
   ]
  },
  {
   "cell_type": "code",
   "execution_count": 5,
   "metadata": {},
   "outputs": [],
   "source": [
    "# Dividir los datos en conjunto de entrenamiento y prueba\n",
    "X_train, X_test, y_train, y_test = train_test_split(data_df[features], data_df[target], test_size=0.2, random_state=42)"
   ]
  },
  {
   "cell_type": "code",
   "execution_count": 6,
   "metadata": {},
   "outputs": [],
   "source": [
    "# Escalar características para mejorar el rendimiento del modelo\n",
    "scaler = StandardScaler()\n",
    "X_train_scaled = scaler.fit_transform(X_train)\n",
    "X_test_scaled = scaler.transform(X_test)"
   ]
  },
  {
   "cell_type": "code",
   "execution_count": 7,
   "metadata": {},
   "outputs": [],
   "source": [
    "# Construir el modelo de red neuronal\n",
    "model = Sequential()\n",
    "model.add(Dense(64, input_dim=len(features), activation='relu'))  # Primera capa oculta\n",
    "model.add(Dense(32, activation='relu'))  # Segunda capa oculta\n",
    "model.add(Dense(1, activation='sigmoid'))  # Capa de salida"
   ]
  },
  {
   "cell_type": "code",
   "execution_count": 8,
   "metadata": {},
   "outputs": [],
   "source": [
    "# Compilar el modelo\n",
    "model.compile(optimizer='adam', loss='binary_crossentropy', metrics=['accuracy'])"
   ]
  },
  {
   "cell_type": "code",
   "execution_count": 9,
   "metadata": {},
   "outputs": [
    {
     "name": "stdout",
     "output_type": "stream",
     "text": [
      "Epoch 1/50\n",
      "3118/3118 [==============================] - 7s 2ms/step - loss: 0.3529 - accuracy: 0.8579 - val_loss: 0.2452 - val_accuracy: 0.8865\n",
      "Epoch 2/50\n",
      "3118/3118 [==============================] - 5s 2ms/step - loss: 0.2487 - accuracy: 0.8973 - val_loss: 0.2481 - val_accuracy: 0.8785\n",
      "Epoch 3/50\n",
      "3118/3118 [==============================] - 6s 2ms/step - loss: 0.2357 - accuracy: 0.8999 - val_loss: 0.2527 - val_accuracy: 0.8743\n",
      "Epoch 4/50\n",
      "3118/3118 [==============================] - 4s 1ms/step - loss: 0.2267 - accuracy: 0.8998 - val_loss: 0.2059 - val_accuracy: 0.9122\n",
      "Epoch 5/50\n",
      "3118/3118 [==============================] - 6s 2ms/step - loss: 0.2209 - accuracy: 0.8998 - val_loss: 0.2005 - val_accuracy: 0.9077\n",
      "Epoch 6/50\n",
      "3118/3118 [==============================] - 4s 1ms/step - loss: 0.2103 - accuracy: 0.9010 - val_loss: 0.2026 - val_accuracy: 0.9080\n",
      "Epoch 7/50\n",
      "3118/3118 [==============================] - 4s 1ms/step - loss: 0.2303 - accuracy: 0.9020 - val_loss: 0.1853 - val_accuracy: 0.9024\n",
      "Epoch 8/50\n",
      "3118/3118 [==============================] - 5s 2ms/step - loss: 0.2013 - accuracy: 0.9015 - val_loss: 0.1870 - val_accuracy: 0.9002\n",
      "Epoch 9/50\n",
      "3118/3118 [==============================] - 5s 1ms/step - loss: 0.2093 - accuracy: 0.9024 - val_loss: 0.1971 - val_accuracy: 0.9054\n",
      "Epoch 10/50\n",
      "3118/3118 [==============================] - 4s 1ms/step - loss: 0.2010 - accuracy: 0.9027 - val_loss: 0.1957 - val_accuracy: 0.8943\n",
      "Epoch 11/50\n",
      "3118/3118 [==============================] - 4s 1ms/step - loss: 0.2001 - accuracy: 0.9004 - val_loss: 0.1830 - val_accuracy: 0.9116\n",
      "Epoch 12/50\n",
      "3118/3118 [==============================] - 4s 1ms/step - loss: 0.1991 - accuracy: 0.9031 - val_loss: 0.1861 - val_accuracy: 0.9001\n",
      "Epoch 13/50\n",
      "3118/3118 [==============================] - 4s 1ms/step - loss: 0.1999 - accuracy: 0.9014 - val_loss: 0.1933 - val_accuracy: 0.9070\n",
      "Epoch 14/50\n",
      "3118/3118 [==============================] - 4s 1ms/step - loss: 0.1984 - accuracy: 0.9021 - val_loss: 0.1840 - val_accuracy: 0.9120\n",
      "Epoch 15/50\n",
      "3118/3118 [==============================] - 4s 1ms/step - loss: 0.1980 - accuracy: 0.9031 - val_loss: 0.2128 - val_accuracy: 0.9009\n",
      "Epoch 16/50\n",
      "3118/3118 [==============================] - 4s 1ms/step - loss: 0.1978 - accuracy: 0.9029 - val_loss: 0.1798 - val_accuracy: 0.9126\n",
      "Epoch 17/50\n",
      "3118/3118 [==============================] - 4s 1ms/step - loss: 0.1965 - accuracy: 0.9015 - val_loss: 0.1831 - val_accuracy: 0.9004\n",
      "Epoch 18/50\n",
      "3118/3118 [==============================] - 4s 1ms/step - loss: 0.1978 - accuracy: 0.9045 - val_loss: 0.1962 - val_accuracy: 0.9058\n",
      "Epoch 19/50\n",
      "3118/3118 [==============================] - 4s 1ms/step - loss: 0.1983 - accuracy: 0.9020 - val_loss: 0.1854 - val_accuracy: 0.8997\n",
      "Epoch 20/50\n",
      "3118/3118 [==============================] - 4s 1ms/step - loss: 0.1968 - accuracy: 0.9032 - val_loss: 0.1820 - val_accuracy: 0.9033\n",
      "Epoch 21/50\n",
      "3118/3118 [==============================] - 4s 1ms/step - loss: 0.1978 - accuracy: 0.9033 - val_loss: 0.1805 - val_accuracy: 0.9126\n",
      "Epoch 22/50\n",
      "3118/3118 [==============================] - 4s 1ms/step - loss: 0.1968 - accuracy: 0.9045 - val_loss: 0.1830 - val_accuracy: 0.9013\n",
      "Epoch 23/50\n",
      "3118/3118 [==============================] - 4s 1ms/step - loss: 0.1956 - accuracy: 0.9038 - val_loss: 0.1883 - val_accuracy: 0.9003\n",
      "Epoch 24/50\n",
      "3118/3118 [==============================] - 4s 1ms/step - loss: 0.1957 - accuracy: 0.9020 - val_loss: 0.1849 - val_accuracy: 0.9012\n",
      "Epoch 25/50\n",
      "3118/3118 [==============================] - 4s 1ms/step - loss: 0.2133 - accuracy: 0.9050 - val_loss: 0.2083 - val_accuracy: 0.8933\n",
      "Epoch 26/50\n",
      "3118/3118 [==============================] - 4s 1ms/step - loss: 0.1973 - accuracy: 0.9025 - val_loss: 0.1793 - val_accuracy: 0.9036\n",
      "Epoch 27/50\n",
      "3118/3118 [==============================] - 4s 1ms/step - loss: 0.1964 - accuracy: 0.9041 - val_loss: 0.1921 - val_accuracy: 0.8967\n",
      "Epoch 28/50\n",
      "3118/3118 [==============================] - 4s 1ms/step - loss: 0.1948 - accuracy: 0.9048 - val_loss: 0.1817 - val_accuracy: 0.9103\n",
      "Epoch 29/50\n",
      "3118/3118 [==============================] - 4s 1ms/step - loss: 0.1961 - accuracy: 0.9044 - val_loss: 0.1842 - val_accuracy: 0.8986\n",
      "Epoch 30/50\n",
      "3118/3118 [==============================] - 4s 1ms/step - loss: 0.1950 - accuracy: 0.9032 - val_loss: 0.1782 - val_accuracy: 0.9139\n",
      "Epoch 31/50\n",
      "3118/3118 [==============================] - 4s 1ms/step - loss: 0.1957 - accuracy: 0.9031 - val_loss: 0.1813 - val_accuracy: 0.9104\n",
      "Epoch 32/50\n",
      "3118/3118 [==============================] - 4s 1ms/step - loss: 0.1956 - accuracy: 0.9033 - val_loss: 0.1811 - val_accuracy: 0.9063\n",
      "Epoch 33/50\n",
      "3118/3118 [==============================] - 4s 1ms/step - loss: 0.1955 - accuracy: 0.9034 - val_loss: 0.1802 - val_accuracy: 0.9020\n",
      "Epoch 34/50\n",
      "3118/3118 [==============================] - 4s 1ms/step - loss: 0.1965 - accuracy: 0.9056 - val_loss: 0.1826 - val_accuracy: 0.9108\n",
      "Epoch 35/50\n",
      "3118/3118 [==============================] - 4s 1ms/step - loss: 0.2007 - accuracy: 0.9029 - val_loss: 0.1787 - val_accuracy: 0.9139\n",
      "Epoch 36/50\n",
      "3118/3118 [==============================] - 4s 1ms/step - loss: 0.1966 - accuracy: 0.9038 - val_loss: 0.1952 - val_accuracy: 0.8943\n",
      "Epoch 37/50\n",
      "3118/3118 [==============================] - 4s 1ms/step - loss: 0.1950 - accuracy: 0.9035 - val_loss: 0.1790 - val_accuracy: 0.9128\n",
      "Epoch 38/50\n",
      "3118/3118 [==============================] - 4s 1ms/step - loss: 0.1977 - accuracy: 0.9039 - val_loss: 0.1795 - val_accuracy: 0.9033\n",
      "Epoch 39/50\n",
      "3118/3118 [==============================] - 4s 1ms/step - loss: 0.1963 - accuracy: 0.9055 - val_loss: 0.1825 - val_accuracy: 0.9007\n",
      "Epoch 40/50\n",
      "3118/3118 [==============================] - 4s 1ms/step - loss: 0.1944 - accuracy: 0.9034 - val_loss: 0.1808 - val_accuracy: 0.9130\n",
      "Epoch 41/50\n",
      "3118/3118 [==============================] - 4s 1ms/step - loss: 0.2316 - accuracy: 0.9029 - val_loss: 0.1808 - val_accuracy: 0.9099\n",
      "Epoch 42/50\n",
      "3118/3118 [==============================] - 4s 1ms/step - loss: 0.1937 - accuracy: 0.9044 - val_loss: 0.1802 - val_accuracy: 0.9110\n",
      "Epoch 43/50\n",
      "3118/3118 [==============================] - 4s 1ms/step - loss: 0.1938 - accuracy: 0.9042 - val_loss: 0.1877 - val_accuracy: 0.8983\n",
      "Epoch 44/50\n",
      "3118/3118 [==============================] - 4s 1ms/step - loss: 0.1970 - accuracy: 0.9035 - val_loss: 0.1789 - val_accuracy: 0.9126\n",
      "Epoch 45/50\n",
      "3118/3118 [==============================] - 4s 1ms/step - loss: 0.1965 - accuracy: 0.9040 - val_loss: 0.1806 - val_accuracy: 0.9021\n",
      "Epoch 46/50\n",
      "3118/3118 [==============================] - 4s 1ms/step - loss: 0.1952 - accuracy: 0.9053 - val_loss: 0.1780 - val_accuracy: 0.9133\n",
      "Epoch 47/50\n",
      "3118/3118 [==============================] - 4s 1ms/step - loss: 0.1938 - accuracy: 0.9048 - val_loss: 0.1807 - val_accuracy: 0.9129\n",
      "Epoch 48/50\n",
      "3118/3118 [==============================] - 4s 1ms/step - loss: 0.1925 - accuracy: 0.9051 - val_loss: 0.1772 - val_accuracy: 0.9134\n",
      "Epoch 49/50\n",
      "3118/3118 [==============================] - 5s 1ms/step - loss: 0.1942 - accuracy: 0.9050 - val_loss: 0.1817 - val_accuracy: 0.9116\n",
      "Epoch 50/50\n",
      "3118/3118 [==============================] - 4s 1ms/step - loss: 0.1936 - accuracy: 0.9043 - val_loss: 0.1888 - val_accuracy: 0.9095\n"
     ]
    },
    {
     "data": {
      "text/plain": [
       "<keras.src.callbacks.History at 0x2904a8fd350>"
      ]
     },
     "execution_count": 9,
     "metadata": {},
     "output_type": "execute_result"
    }
   ],
   "source": [
    "# Entrenar el modelo\n",
    "model.fit(X_train_scaled, y_train, epochs=50, batch_size=10, validation_data=(X_test_scaled, y_test), verbose=1)"
   ]
  },
  {
   "cell_type": "code",
   "execution_count": 10,
   "metadata": {},
   "outputs": [
    {
     "name": "stdout",
     "output_type": "stream",
     "text": [
      "Precisión del modelo de red neuronal: 0.9095457792282104\n"
     ]
    }
   ],
   "source": [
    "# Evaluar el modelo en el conjunto de prueba\n",
    "loss, accuracy = model.evaluate(X_test_scaled, y_test, verbose=0)\n",
    "print(\"Precisión del modelo de red neuronal:\", accuracy)"
   ]
  }
 ],
 "metadata": {
  "kernelspec": {
   "display_name": "Python 3",
   "language": "python",
   "name": "python3"
  },
  "language_info": {
   "codemirror_mode": {
    "name": "ipython",
    "version": 3
   },
   "file_extension": ".py",
   "mimetype": "text/x-python",
   "name": "python",
   "nbconvert_exporter": "python",
   "pygments_lexer": "ipython3",
   "version": "3.11.5"
  }
 },
 "nbformat": 4,
 "nbformat_minor": 2
}
